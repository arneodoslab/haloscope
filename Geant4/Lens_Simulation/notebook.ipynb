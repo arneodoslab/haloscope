{
 "cells": [
  {
   "cell_type": "code",
   "execution_count": 1,
   "metadata": {},
   "outputs": [],
   "source": [
    "import numpy as np\n",
    "import matplotlib.pyplot as plt\n",
    "from scipy.optimize import fsolve"
   ]
  },
  {
   "cell_type": "code",
   "execution_count": 24,
   "metadata": {},
   "outputs": [
    {
     "name": "stderr",
     "output_type": "stream",
     "text": [
      "/Library/Frameworks/Python.framework/Versions/3.8/lib/python3.8/site-packages/scipy/optimize/minpack.py:162: RuntimeWarning: The iteration is not making good progress, as measured by the \n",
      "  improvement from the last five Jacobian evaluations.\n",
      "  warnings.warn(msg, RuntimeWarning)\n"
     ]
    },
    {
     "data": {
      "text/plain": [
       "array([-2.69413167e+00, -2.62989603e+00, -2.56544938e+00, -2.50077795e+00,\n",
       "       -2.43586679e+00, -2.37069947e+00, -2.30525819e+00, -2.23952335e+00,\n",
       "       -2.17347342e+00, -2.10708480e+00, -2.04033131e+00, -1.97318420e+00,\n",
       "       -1.90561143e+00, -1.83757738e+00, -1.76904247e+00, -1.69996223e+00,\n",
       "       -1.63028683e+00, -1.55996008e+00, -1.48891840e+00, -1.41708947e+00,\n",
       "       -1.34439058e+00, -1.27072669e+00, -1.19598770e+00, -1.12004511e+00,\n",
       "       -1.04274720e+00, -9.63912640e-01, -8.83320790e-01, -8.00696550e-01,\n",
       "       -7.15685170e-01, -6.27805920e-01, -5.36358410e-01, -4.40207240e-01,\n",
       "       -3.37194660e-01, -2.93106510e-01, -2.30012210e-01, -2.22042430e-01,\n",
       "       -1.53926950e-01, -7.31205700e-02, -5.95847800e-02, -4.02818400e-02,\n",
       "       -3.77061000e-02, -3.18021000e-02, -3.12653600e-02, -1.50246500e-02,\n",
       "       -6.88664000e-03, -6.87051000e-03, -4.04163000e-03, -1.35158000e-03,\n",
       "       -2.12800000e-05,  3.76200000e-05,  4.30580000e-04,  1.35217000e-03,\n",
       "        4.04236000e-03,  5.18278000e-03,  1.50275700e-02,  2.29054100e-02,\n",
       "        2.98853900e-02,  3.12569400e-02,  3.49667500e-02,  3.77071700e-02,\n",
       "        4.02822800e-02,  5.95831700e-02,  7.31206500e-02,  1.53950800e-01,\n",
       "        2.22042510e-01,  2.30012140e-01,  2.92931490e-01,  3.37194730e-01,\n",
       "        4.40207290e-01,  5.36358460e-01,  6.27805970e-01,  7.15685230e-01,\n",
       "        8.00696600e-01,  8.83320830e-01,  9.63912690e-01,  1.04274724e+00,\n",
       "        1.12004517e+00,  1.19598776e+00,  1.27072674e+00,  1.34439064e+00,\n",
       "        1.41708951e+00,  1.48891846e+00,  1.55996015e+00,  1.63028687e+00,\n",
       "        1.69996231e+00,  1.76904252e+00,  1.83757744e+00,  1.90561150e+00,\n",
       "        1.97318427e+00,  2.04033138e+00,  2.10708485e+00,  2.17347350e+00,\n",
       "        2.23952341e+00,  2.30525826e+00,  2.37069954e+00,  2.43586686e+00,\n",
       "        2.50077804e+00,  2.56544945e+00,  2.62989613e+00,  2.69413175e+00])"
      ]
     },
     "execution_count": 24,
     "metadata": {},
     "output_type": "execute_result"
    }
   ],
   "source": [
    "def f(t,a,b):\n",
    "    return a*t**2 + b\n",
    "\n",
    "DEC=8\n",
    "a = np.unique(fsolve(f,np.linspace(-100,100,100), args=(2,5)).round(DEC))\n",
    "a"
   ]
  },
  {
   "cell_type": "code",
   "execution_count": null,
   "metadata": {},
   "outputs": [],
   "source": []
  }
 ],
 "metadata": {
  "kernelspec": {
   "display_name": "Python 3",
   "language": "python",
   "name": "python3"
  },
  "language_info": {
   "codemirror_mode": {
    "name": "ipython",
    "version": 3
   },
   "file_extension": ".py",
   "mimetype": "text/x-python",
   "name": "python",
   "nbconvert_exporter": "python",
   "pygments_lexer": "ipython3",
   "version": "3.8.2"
  }
 },
 "nbformat": 4,
 "nbformat_minor": 4
}
