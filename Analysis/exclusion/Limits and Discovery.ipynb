{
 "cells": [
  {
   "cell_type": "markdown",
   "metadata": {},
   "source": [
    "# Setting Limits for Real and Hypothetical Dielectric Stack Experiments"
   ]
  },
  {
   "cell_type": "markdown",
   "metadata": {},
   "source": [
    "## 1: Imports "
   ]
  },
  {
   "cell_type": "code",
   "execution_count": 2,
   "metadata": {},
   "outputs": [],
   "source": [
    "# local pacakges\n",
    "import boost\n",
    "import statistical_methods as statistics\n",
    "\n",
    "# utilities\n",
    "import sys,getopt\n",
    "from datetime import datetime\n",
    "import itertools  \n",
    "\n",
    "# numerical computing\n",
    "import numpy as np\n",
    "import pandas as pd\n",
    "import math\n",
    "from scipy import integrate\n",
    "from scipy import stats as sps\n",
    "from scipy import optimize as opt\n",
    "import scipy.constants as const\n",
    "from scipy.interpolate import interp1d\n",
    "from scipy.optimize import brentq\n",
    "\n",
    "# plotting\n",
    "import matplotlib.pyplot as plt\n",
    "from matplotlib.axes import Axes\n",
    "from matplotlib.ticker import MaxNLocator\n",
    "from matplotlib import cm\n",
    "from mpl_toolkits.mplot3d import Axes3D\n",
    "from matplotlib.ticker import FuncFormatter"
   ]
  },
  {
   "cell_type": "markdown",
   "metadata": {},
   "source": [
    "## 2: Setting Desired Parameters and Measurement Values"
   ]
  },
  {
   "cell_type": "markdown",
   "metadata": {},
   "source": [
    "### 2.1: Stack Parameters"
   ]
  },
  {
   "cell_type": "code",
   "execution_count": 58,
   "metadata": {},
   "outputs": [],
   "source": [
    "##When true, we will use a txt file of stack thicknesses, when false we will compute an unchirped stack\n",
    "##Overruled if filed_boost==True\n",
    "filed_stack=True # Default=True for measured stack\n",
    "\n",
    "##file containing list of dielectric layer thicknesses(not air or mirror). Unused if filed_stack==False\n",
    "stack_file=\"measured-thickness-080821.txt\" # Default = \"measured-thickness-080821.txt\"\n",
    "\n",
    "##When true, we will use a txt file of boost factors, when false we will compute from the stack.\n",
    "filed_boost=True # Default=False, will compute boost factor from measured stack thicknesses\n",
    "\n",
    "##file containing list of boost factors Unused if filed_boost==False\n",
    "boost_file=\"boost-err-85per.npy\" # Default =\"boost-err-85per.npy\", 15 with 85 for 85th percentile instead of 15th\n",
    "\n",
    "##Indices of refraction \n",
    "n1,n2 = 1.4656, 2.0218 # Default=1.4656,2.0218 for SiO2, Si3N4\n",
    "\n",
    "##Target wavelength. Wavelength used for computing stack dimensions. Unused if filed_stack==True [Unit: m]\n",
    "wave_target=805e-9  # Default=805e-9 (805nm)\n",
    "\n",
    "##Number of dielectric bilayers. Does not include air or mirror layer. Unused if filed_stack==True\n",
    "N_bilayers=23  # Default=23 \n",
    "\n",
    "##Is the stack mirrored True if it is, False if it is not.\n",
    "mirror=True # Default = True\n",
    "\n",
    "##Area of the stack [Unit: m^2]\n",
    "AREA=np.pi*(0.025)**2 # Default=np.pi*(0.025)**2 for a 5cm diameter stack \n",
    "\n"
   ]
  },
  {
   "cell_type": "markdown",
   "metadata": {},
   "source": [
    "### 2.2: Sensor and Efficiency Parameters"
   ]
  },
  {
   "cell_type": "code",
   "execution_count": 59,
   "metadata": {},
   "outputs": [],
   "source": [
    "##Which sensor will be used, \"Excelitas\" uses QE spectra from files, \n",
    "##\"TES\" uses a flat spectrum with a specified efficiency\n",
    "sensor=\"Excelitas\" #Default=\"Excelitas\", options are \"Excelitas\", \"TES\", and \"Custom\"\n",
    "\n",
    "##Specifies the filename of a custom made sensor PDE\n",
    "customPDE=\"excelitas_PDE1Ve.csv\"\n",
    "\n",
    "##Flat efficiency of transition edge sensor. Unused if sensor!=\"TES\". [Unit: %]\n",
    "eta_TES=50\n",
    "\n",
    "##optical/geometric photodetection efficiency of the system computed from GEANT4 simulation.\n",
    "eta_photo=0.718 # Default = 0.718 "
   ]
  },
  {
   "cell_type": "markdown",
   "metadata": {},
   "source": [
    "### 2.3: Measurement Values"
   ]
  },
  {
   "cell_type": "code",
   "execution_count": 60,
   "metadata": {},
   "outputs": [],
   "source": [
    "##Time of the on and off measurements. [Unit: days]\n",
    "days_on,days_off =  2/24, 0.5/24 #Defaults= 2/24, 0.5/24 for 2-hour on and 30-minute off measurements\n",
    "\n",
    "##Measured count rate of the on and off measurements. Unused if n_on and n_off entered directly [Unit: Hz]\n",
    "r_on,r_off = 98.6, 96.5 #Defaults= 98.6, 96.5 for Mudhi measurements\n",
    "\n",
    "##Total measured number of counts from the on and off measurements. [Unit: counts]\n",
    "n_on,n_off = r_on*days_on*24*60*60, r_off*days_off*24*60*60 #Defaults=r_on*days_on*24*60*60, r_off*days_off*24*60*60\n"
   ]
  },
  {
   "cell_type": "markdown",
   "metadata": {},
   "source": [
    "### 2.4: Statistical Parameters"
   ]
  },
  {
   "cell_type": "code",
   "execution_count": 61,
   "metadata": {},
   "outputs": [],
   "source": [
    "## Choice of statistical method to be applied.\n",
    "##\"A1\" gives poisson statistics projected 90% exclusion limits assuming that r_on=r_off (useful check but not final)\n",
    "##\"A2\" gives poisson statistics projected discovery power (useful check but not final)\n",
    "##\"B1\" gives log-likelihood 90% exclusion limits (use for final exclusions)\n",
    "##\"B2\" gives log-likelihood discovery power (use for final discovery power plots)\n",
    "stat_choice=\"B1\" #Default=\"B1\" which should be used for anything serious"
   ]
  },
  {
   "cell_type": "markdown",
   "metadata": {},
   "source": [
    "### 2.5: Dark Matter Parameters and Axion B Field"
   ]
  },
  {
   "cell_type": "code",
   "execution_count": 62,
   "metadata": {},
   "outputs": [],
   "source": [
    "## Dark matter density parameter [Unit: GeV]\n",
    "rho_dm = 0.3 #Default = 0.3, but common alternatives are 0.4 and 0.45\n",
    "\n",
    "## Whether we will look for dark photons or axions. Dark photons if False, axions if True\n",
    "axions=False #Default = False we are generally looking for dark photons\n",
    "\n",
    "## Magnetic field used to convert to an axion search. Unused if axions==False. [Units: Tesla]\n",
    "b_field=12 #Default = 12\n",
    "\n",
    "##Dark matter fudge factor\n",
    "fDM=1"
   ]
  },
  {
   "cell_type": "markdown",
   "metadata": {},
   "source": [
    "## 3: Computing or Selecting Boost Factors and Detector Efficiencies"
   ]
  },
  {
   "cell_type": "markdown",
   "metadata": {},
   "source": [
    "### 3.1: Create or Load a List of Stack Thicknesses and Compute the Boost Factors"
   ]
  },
  {
   "cell_type": "code",
   "execution_count": 63,
   "metadata": {},
   "outputs": [
    {
     "data": {
      "image/png": "[encoded data removed]",
      "text/plain": [
       "<Figure size 432x288 with 1 Axes>"
      ]
     },
     "metadata": {
      "needs_background": "light"
     },
     "output_type": "display_data"
    }
   ],
   "source": [
    "d1=wave_target/(2*n1) #thickness of the d1 layers [units: m]\n",
    "#d1=2.736840000000001e-07 ##m\n",
    "\n",
    "N_layers=N_bilayers*2+2 #number of bilayers times two plus a layer of air or mirror on either side\n",
    "if(filed_boost):\n",
    "    wave,boost_factor=np.load(boost_file)\n",
    "else:\n",
    "    if(filed_stack):\n",
    "        dielectriclayers=np.loadtxt(stack_file,skiprows=1)[:,0]*1e-9 ## measured thicknesses\n",
    "        w,boost_factor=boost.solution_rightwave(n1,n2,d1,len(dielectriclayers)+2,isTList=dielectriclayers,mirror=mirror)\n",
    "    else:\n",
    "        w,boost_factor=boost.solution_rightwave(n1,n2,d1,N_layers,mirror=mirror)\n",
    "    wave = boost.freq_to_lamda(w)\n",
    "\n",
    "\n",
    "mass=const.h*const.c/(wave*1e-9)*6.2*1e18\n",
    "\n",
    "\n",
    "\n",
    "plt.plot(mass[::2],boost_factor[::2])\n",
    "plt.ylabel(\"Boost Factor\")\n",
    "plt.xlabel(\"Mass [eV]\");\n"
   ]
  },
  {
   "cell_type": "markdown",
   "metadata": {},
   "source": [
    "### 3.2: Create or Load the QE Spectrum for the Chosen Sensor"
   ]
  },
  {
   "cell_type": "code",
   "execution_count": 64,
   "metadata": {
    "scrolled": false
   },
   "outputs": [
    {
     "data": {
      "image/png": "[encoded data removed]",
      "text/plain": [
       "<Figure size 432x288 with 1 Axes>"
      ]
     },
     "metadata": {
      "needs_background": "light"
     },
     "output_type": "display_data"
    }
   ],
   "source": [
    "if sensor == \"Excelitas\":\n",
    "    extractedData=pd.read_csv(\"excelitas_PDE1Ve.csv\",names=[\"x\",\"y\"])\n",
    "    qeX=extractedData.x.values\n",
    "    qeY=extractedData.y.values*100\n",
    "elif sensor == \"TES\":\n",
    "    qeX=np.arange(410,1100,10)\n",
    "    qeY=np.ones(len(qeX))*50\n",
    "elif sensor == \"Custom\":\n",
    "    extractedData=pd.read_csv(customPDE,names=[\"x\",\"y\"])\n",
    "    qeX=extractedData.x.values\n",
    "    qeY=extractedData.y.values*100\n",
    "plt.plot(qeX,qeY)\n",
    "plt.title(\"QE for \" +sensor+ \" Sensor\")\n",
    "plt.ylabel(\"Sensor Quantum Efficiency\")\n",
    "plt.xlabel(\"Wavelength [nm]\");\n"
   ]
  },
  {
   "cell_type": "markdown",
   "metadata": {},
   "source": [
    "### 3.3: Get Wavelengths to match between QE and Beta"
   ]
  },
  {
   "cell_type": "code",
   "execution_count": 65,
   "metadata": {},
   "outputs": [],
   "source": [
    "mask = (wave<max(qeX)) & (wave>min(qeX)) \n",
    "wave = wave[mask]\n",
    "boost_factor = boost_factor[mask]"
   ]
  },
  {
   "cell_type": "code",
   "execution_count": 66,
   "metadata": {},
   "outputs": [],
   "source": [
    "qe_func = interp1d(qeX,qeY)\n",
    "qeY = qe_func(wave)"
   ]
  },
  {
   "cell_type": "markdown",
   "metadata": {},
   "source": [
    "## 4: Calling Statistical Methods to Compute Excluded Number of Counts"
   ]
  },
  {
   "cell_type": "code",
   "execution_count": 67,
   "metadata": {},
   "outputs": [
    {
     "name": "stdout",
     "output_type": "stream",
     "text": [
      "non0, noff0: 709920.0 173700.0\n",
      "non, noff: 709920.0 173700.0\n",
      "the signal at which the median no-signal dataset is excluded at 90% confidence is 17512.202577723026\n"
     ]
    }
   ],
   "source": [
    "###Allows the use of a variety of statistical method to compute \"N Star\". For exclusion limits, this is the \n",
    "##Number of counts excluded during the on experiment, basically the excluded signal rate times the on time\n",
    "##For discovery power, this is the discovered rate times the on time.\n",
    "\n",
    "beta = 0.2\n",
    "\n",
    "if (stat_choice==\"A1\"):\n",
    "    n_star = (statistics.poisson_1sided_interval(n_off,beta)-np.round(n_off))*(days_on/days_off)\n",
    "if (stat_choice==\"A2\"):\n",
    "    sigmaDiscovery = 5\n",
    "    n_star = statistics.disc_powerA(r_off,sigmaDiscovery)\n",
    "if (stat_choice==\"B1\"):\n",
    "    n_star = statistics.upper_limitB(n_on,n_off,days_on,days_off)\n",
    "if (stat_choice==\"B2\"):\n",
    "    n_star = statistics.discovery_powerB(r_off,days=days_on)\n",
    "    \n",
    "\n"
   ]
  },
  {
   "cell_type": "markdown",
   "metadata": {},
   "source": [
    "## 5: Setting Limits on Dark Matter Coupling"
   ]
  },
  {
   "cell_type": "code",
   "execution_count": 68,
   "metadata": {},
   "outputs": [],
   "source": [
    "mass=const.h*const.c/(wave*1e-9)*6.2*1e18\n",
    "eta= qe_func(wave)*eta_photo/100 ## dividing by 100 since QE is expressed in %\n",
    "coupling_squared=[]\n",
    "for i, m in enumerate(mass):\n",
    "    coupling_squared.append((n_star/(AREA*days_on))/( 5.2* (boost_factor[i]**2)* eta[i] * 1e27 * fDM*1/mass[i]))\n",
    "    coupling=np.sqrt(coupling_squared)"
   ]
  },
  {
   "cell_type": "code",
   "execution_count": 69,
   "metadata": {},
   "outputs": [
    {
     "data": {
      "image/png": "[encoded data removed]",
      "text/plain": [
       "<Figure size 720x576 with 1 Axes>"
      ]
     },
     "metadata": {
      "needs_background": "light"
     },
     "output_type": "display_data"
    }
   ],
   "source": [
    "formatter = FuncFormatter(lambda y, _: '{:.3g}'.format(y))\n",
    "\n",
    "fig,ax = plt.subplots(figsize=(10,8)) # set up the figure\n",
    "skip=1\n",
    "\n",
    "ax.plot(mass[::skip],coupling[::skip])\n",
    "\n",
    "#--- plot formatting\n",
    "ax.set_yscale(\"log\")\n",
    "ax.set_xscale(\"log\")\n",
    "\n",
    "ax.set_xlim(0.5,10)\n",
    "ax.set_ylim(1e-16,1e-7)\n",
    "ax.set_xticks([0.5,1.0,2.0,5.0,10])\n",
    "ax.set_yticks([1e-15,1e-14,1e-13,1e-12,1e-11,1e-10,1e-9,1e-8])\n",
    "\n",
    "ax.xaxis.set_major_formatter(formatter)\n",
    "\n",
    "plt.xlabel(\"mass [eV/c$^2$]\")\n",
    "plt.ylabel(\"$\\chi$\")\n",
    "plt.grid(linestyle=\"--\")"
   ]
  },
  {
   "cell_type": "code",
   "execution_count": 70,
   "metadata": {},
   "outputs": [
    {
     "name": "stdout",
     "output_type": "stream",
     "text": [
      "9.966723968243408e-11 1.6072724336612845\n"
     ]
    }
   ],
   "source": [
    "idx = np.where(coupling == min(coupling))[0][0]\n",
    "print(coupling[idx],mass[idx])"
   ]
  },
  {
   "cell_type": "markdown",
   "metadata": {},
   "source": [
    "## 6: Plotting Limits Against Comparable Experiments"
   ]
  },
  {
   "cell_type": "code",
   "execution_count": 71,
   "metadata": {},
   "outputs": [],
   "source": [
    "nowtime = datetime.now()\n",
    "dt_string = nowtime.strftime(\"%Y%m%d%H%M%S\")\n",
    "bgd=n_off/(days_off*24*60*60)\n",
    "\n",
    "if(~axions):\n",
    "    ##Save a copy with the date attached\n",
    "    np.save(\"./plot-data/\"+dt_string+\"B\"+str(bgd)+stat_choice+\"T\"+str(np.round(days_on,2))+sensor+\"Per\"+str(100),coupling)\n",
    "    np.save(\"./plot-data/\"+dt_string+\"B\"+str(bgd)+stat_choice+\"T\"+str(np.round(days_on,2))+sensor+\"Per\"+str(100)+\"-energy\",mass)\n",
    "    ##Overwrite the default copy\n",
    "    np.save(\"./plot-data/\"+\"1-85-LatestValue\",coupling)\n",
    "    np.save(\"./plot-data/\"+\"1-85-LatestValue-energy\",mass) \n",
    "    np.save(\"./plot-data/\"+\"1-15-LatestValue\",coupling)\n",
    "    np.save(\"./plot-data/\"+\"1-15-LatestValue-energy\",mass)   \n",
    "    np.save(\"./plot-data/\"+\"1-LatestValue\",coupling)\n",
    "    np.save(\"./plot-data/\"+\"1-LatestValue-energy\",mass)   \n",
    "    \n",
    "    "
   ]
  },
  {
   "cell_type": "code",
   "execution_count": null,
   "metadata": {},
   "outputs": [],
   "source": []
  },
  {
   "cell_type": "code",
   "execution_count": null,
   "metadata": {},
   "outputs": [],
   "source": []
  }
 ],
 "metadata": {
  "kernelspec": {
   "display_name": "Python 3",
   "language": "python",
   "name": "python3"
  },
  "language_info": {
   "codemirror_mode": {
    "name": "ipython",
    "version": 3
   },
   "file_extension": ".py",
   "mimetype": "text/x-python",
   "name": "python",
   "nbconvert_exporter": "python",
   "pygments_lexer": "ipython3",
   "version": "3.6.10"
  }
 },
 "nbformat": 4,
 "nbformat_minor": 5
}
