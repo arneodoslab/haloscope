{
 "cells": [
  {
   "cell_type": "code",
   "execution_count": 58,
   "metadata": {},
   "outputs": [
    {
     "name": "stderr",
     "output_type": "stream",
     "text": [
      "No handles with labels found to put in legend.\n",
      "/Users/Lallina/miniconda3/envs/py3/lib/python3.6/site-packages/ipykernel_launcher.py:64: RuntimeWarning: divide by zero encountered in true_divide\n"
     ]
    },
    {
     "data": {
      "image/png": "[encoded data removed]",
      "text/plain": [
       "<Figure size 360x270 with 1 Axes>"
      ]
     },
     "metadata": {
      "needs_background": "light"
     },
     "output_type": "display_data"
    }
   ],
   "source": [
    "from matplotlib import pyplot as plt\n",
    "import numpy as np\n",
    "import scipy.stats as stats\n",
    "from sys import float_info\n",
    "import scipy.constants as const\n",
    "from matplotlib.ticker import FormatStrFormatter\n",
    "\n",
    "#------------------------------------------------------------\n",
    "MEDIUM_SIZE = 20\n",
    "#------------------------------------------------------------\n",
    "\n",
    "fig, ax1 = plt.subplots(figsize=(5, 3.75))\n",
    "WL=[]\n",
    "IRR=[]\n",
    "WL= [  # nm\n",
    "    300.0, 305.0, 310.0, 315.0, 320.0, 325.0, 330.0, 335.0, 340.0, 345.0,\n",
    "    350.0, 360.0, 370.0, 380.0, 390.0, 400.0, 410.0, 420.0, 430.0, 440.0,\n",
    "    450.0, 460.0, 470.0, 480.0, 490.0, 500.0, 510.0, 520.0, 530.0, 540.0,\n",
    "    550.0, 570.0, 593.0, 610.0, 630.0, 656.0, 667.6, 690.0, 710.0, 718.0,\n",
    "    724.4, 740.0, 752.5, 757.5, 762.5, 767.5, 780.0, 800.0, 816.0, 823.7,\n",
    "    831.5, 840.0, 860.0, 880.0, 905.0, 915.0, 925.0, 930.0, 937.0, 948.0,\n",
    "    965.0, 980.0, 993.5, 1040.0, 1070.0, 1100.0, 1120.0, 1130.0, 1145.0,\n",
    "    1161.0, 1170.0, 1200.0, 1240.0, 1270.0, 1290.0, 1320.0, 1350.0, 1395.0,\n",
    "    1442.5, 1462.5, 1477.0, 1497.0, 1520.0, 1539.0, 1558.0, 1578.0, 1592.0,\n",
    "    1610.0, 1630.0, 1646.0, 1678.0, 1740.0, 1800.0, 1860.0, 1920.0, 1960.0,\n",
    "    1985.0, 2005.0, 2035.0, 2065.0, 2100.0, 2148.0, 2198.0, 2270.0, 2360.0,\n",
    "    2450.0, 2500.0, 2600.0, 2700.0, 2800.0, 2900.0, 3000.0, 3100.0, 3200.0,\n",
    "    3300.0, 3400.0, 3500.0, 3600.0, 3700.0, 3800.0, 3900.0, 4000.0]\n",
    "IRR= [  # W/m^2/nm\n",
    "    0.5359, 0.5583, 0.622, 0.6927, 0.7151, 0.8329, 0.9619, 0.9319, 0.9006,\n",
    "    0.9113, 0.9755, 0.9759, 1.1199, 1.1038, 1.0338, 1.4791, 1.7013, 1.7404,\n",
    "    1.5872, 1.837, 2.005, 2.043, 1.987, 2.027, 1.896, 1.909, 1.927, 1.831,\n",
    "    1.891, 1.898, 1.892, 1.84, 1.768, 1.728, 1.658, 1.524, 1.531, 1.42,\n",
    "    1.399, 1.374, 1.373, 1.298, 1.269, 1.245, 1.223, 1.205, 1.183, 1.148,\n",
    "    1.091, 1.062, 1.038, 1.022, 0.9987, 0.9472, 0.8932, 0.8682, 0.8297,\n",
    "    0.8303, 0.814, 0.7869, 0.7683, 0.767, 0.7576, 0.6881, 0.6407, 0.6062,\n",
    "    0.5859, 0.5702, 0.5641, 0.5442, 0.5334, 0.5016, 0.4775, 0.4427, 0.44,\n",
    "    0.4168, 0.3914, 0.3589, 0.3275, 0.3175, 0.3073, 0.3004, 0.2928, 0.2755,\n",
    "    0.2721, 0.2593, 0.2469, 0.244, 0.2435, 0.2348, 0.2205, 0.1908, 0.1711,\n",
    "    0.1445, 0.1357, 0.123, 0.1238, 0.113, 0.1085, 0.0975, 0.0924, 0.0824,\n",
    "    0.0746, 0.0683, 0.0638, 0.0495, 0.0485, 0.0386, 0.0366, 0.032, 0.0281,\n",
    "    0.0248, 0.0221, 0.0196, 0.0175, 0.0157, 0.0141, 0.0127, 0.0115, 0.0104,\n",
    "    0.0095, 0.0086]\n",
    "\n",
    "plt.plot(WL, IRR, color='black', linestyle= 'solid')\n",
    "\n",
    "plt.xlim(0.5, 1100)\n",
    "plt.ylim(0.5, 2.5)\n",
    "\n",
    "plt.xlabel('Wavelength[nm]')\n",
    "plt.ylabel('$W/m^2/nm$')\n",
    "plt.title('Solar irradiance')\n",
    "\n",
    "def v2lambda(x):\n",
    "    return const.c/(x)*1e9\n",
    "\n",
    "def lambda2v(x):\n",
    "    return const.c/(x*1e-9)\n",
    "\n",
    "# Function to prevent zero values in an array\n",
    "def preventDivisionByZero(some_array):\n",
    "    corrected_array = some_array.copy()\n",
    "    for i, entry in enumerate(some_array):\n",
    "        # If element is zero, set to some small value\n",
    "        if abs(entry) < float_info.epsilon:\n",
    "            corrected_array[i] = float_info.epsilon\n",
    "    \n",
    "    return corrected_array\n",
    "# Create the second x-axis on which the frequency will be displayed\n",
    "ax2 = ax1.secondary_xaxis('top', functions=(lambda2E, E2lambda))\n",
    "#ax2.set_xlabel('Wavelength (nm)', fontsize=20)\n",
    "ax2.set_xlabel('Frequency [Hz]')\n",
    "ax2.tick_params(axis='both', which='major',length=6)\n",
    "\n",
    "# Invert the wavelength axis\n",
    "ax2.invert_xaxis()\n",
    "\n",
    "# Get ticks from ax1 (energy)\n",
    "E_ticks = ax1.get_xticks()\n",
    "E_ticks = preventDivisionByZero(E_ticks)\n",
    "\n",
    "# Based on the ticks from ax1 (energy), calculate the corresponding wavelength in nm\n",
    "wl_ticks = E2lambda(E_ticks)\n",
    "\n",
    "# Make the values on ax2 (wavelength) integer values\n",
    "ax2.xaxis.set_major_formatter(FormatStrFormatter('%.0E' ))\n",
    "\n",
    "# Make own array of wavelength ticks, so they are round numbers\n",
    "# The values are not linearly spaced, but that is the idea.\n",
    "#wl_ticks = np.asarray([100, 200, 500, 800, 1400])\n",
    "\n",
    "# Set the ticks for ax2 (wl)\n",
    "ax2.set_xticks(wl_ticks)\n",
    "\n",
    "plt.legend();\n",
    "#plt.show()\n",
    "\n"
   ]
  },
  {
   "cell_type": "code",
   "execution_count": 54,
   "metadata": {},
   "outputs": [
    {
     "data": {
      "text/plain": [
       "599584915999999.9"
      ]
     },
     "execution_count": 54,
     "metadata": {},
     "output_type": "execute_result"
    }
   ],
   "source": [
    "lambda2v(500)"
   ]
  },
  {
   "cell_type": "code",
   "execution_count": null,
   "metadata": {},
   "outputs": [],
   "source": []
  }
 ],
 "metadata": {
  "kernelspec": {
   "display_name": "Python 3",
   "language": "python",
   "name": "python3"
  },
  "language_info": {
   "codemirror_mode": {
    "name": "ipython",
    "version": 3
   },
   "file_extension": ".py",
   "mimetype": "text/x-python",
   "name": "python",
   "nbconvert_exporter": "python",
   "pygments_lexer": "ipython3",
   "version": "3.6.10"
  }
 },
 "nbformat": 4,
 "nbformat_minor": 4
}
